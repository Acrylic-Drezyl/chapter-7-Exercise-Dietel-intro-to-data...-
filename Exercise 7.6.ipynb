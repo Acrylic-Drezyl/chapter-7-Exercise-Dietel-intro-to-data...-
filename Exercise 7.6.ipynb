{
 "cells": [
  {
   "cell_type": "markdown",
   "id": "f5d08fbb",
   "metadata": {},
   "source": [
    "\"\"\"(Research: array Method astype) Research in the NumPy documentation the\n",
    "array method astype, which converts an array’s elements to another type. Use\n",
    "linspace to create a 1-by-6 array with the values 1.1, 2.2, …, 6.6. Then, use astype to convert the array to integers, then convert it to an array with floats and finally, convert it to an array of strings.\"\"\"\n"
   ]
  },
  {
   "cell_type": "code",
   "execution_count": null,
   "id": "50a5f3ba",
   "metadata": {},
   "outputs": [],
   "source": [
    "\n",
    "\n",
    "import numpy as np\n",
    "import pandas as pd\n",
    "\n",
    "hux=np.linspace(1,6)\n",
    "hux\n",
    "\n",
    "#Converting to integers\n",
    "hux.astype('i')\n",
    "\n",
    "#converting  to floats\n",
    "hy=ux.astype('f)\n",
    "hy"
   ]
  }
 ],
 "metadata": {
  "kernelspec": {
   "display_name": "Python 3",
   "language": "python",
   "name": "python3"
  },
  "language_info": {
   "codemirror_mode": {
    "name": "ipython",
    "version": 3
   },
   "file_extension": ".py",
   "mimetype": "text/x-python",
   "name": "python",
   "nbconvert_exporter": "python",
   "pygments_lexer": "ipython3",
   "version": "3.8.8"
  }
 },
 "nbformat": 4,
 "nbformat_minor": 5
}
